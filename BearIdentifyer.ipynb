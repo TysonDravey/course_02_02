{
 "cells": [
  {
   "cell_type": "code",
   "execution_count": 1,
   "id": "0a80222a-bcd0-4f91-90a5-489dacb3a7e7",
   "metadata": {
    "tags": []
   },
   "outputs": [
    {
     "name": "stdout",
     "output_type": "stream",
     "text": [
      "Requirement already satisfied: voila in c:\\users\\kirk\\anaconda3\\envs\\fastai\\lib\\site-packages (0.5.6)\n",
      "Requirement already satisfied: jupyter-client<9,>=7.4.4 in c:\\users\\kirk\\anaconda3\\envs\\fastai\\lib\\site-packages (from voila) (7.4.9)\n",
      "Requirement already satisfied: jupyter-core>=4.11.0 in c:\\users\\kirk\\anaconda3\\envs\\fastai\\lib\\site-packages (from voila) (5.7.2)\n",
      "Requirement already satisfied: jupyter-server<3,>=2.0.0 in c:\\users\\kirk\\anaconda3\\envs\\fastai\\lib\\site-packages (from voila) (2.14.0)\n",
      "Requirement already satisfied: jupyterlab-server<3,>=2.3.0 in c:\\users\\kirk\\anaconda3\\envs\\fastai\\lib\\site-packages (from voila) (2.27.1)\n",
      "Requirement already satisfied: nbclient<0.8,>=0.4.0 in c:\\users\\kirk\\anaconda3\\envs\\fastai\\lib\\site-packages (from voila) (0.7.4)\n",
      "Requirement already satisfied: nbconvert<8,>=6.4.5 in c:\\users\\kirk\\anaconda3\\envs\\fastai\\lib\\site-packages (from voila) (7.16.4)\n",
      "Requirement already satisfied: traitlets<6,>=5.0.3 in c:\\users\\kirk\\anaconda3\\envs\\fastai\\lib\\site-packages (from voila) (5.14.3)\n",
      "Requirement already satisfied: websockets>=9.0 in c:\\users\\kirk\\anaconda3\\envs\\fastai\\lib\\site-packages (from voila) (12.0)\n",
      "Requirement already satisfied: entrypoints in c:\\users\\kirk\\anaconda3\\envs\\fastai\\lib\\site-packages (from jupyter-client<9,>=7.4.4->voila) (0.4)\n",
      "Requirement already satisfied: nest-asyncio>=1.5.4 in c:\\users\\kirk\\anaconda3\\envs\\fastai\\lib\\site-packages (from jupyter-client<9,>=7.4.4->voila) (1.6.0)\n",
      "Requirement already satisfied: python-dateutil>=2.8.2 in c:\\users\\kirk\\anaconda3\\envs\\fastai\\lib\\site-packages (from jupyter-client<9,>=7.4.4->voila) (2.9.0)\n",
      "Requirement already satisfied: pyzmq>=23.0 in c:\\users\\kirk\\anaconda3\\envs\\fastai\\lib\\site-packages (from jupyter-client<9,>=7.4.4->voila) (24.0.1)\n",
      "Requirement already satisfied: tornado>=6.2 in c:\\users\\kirk\\anaconda3\\envs\\fastai\\lib\\site-packages (from jupyter-client<9,>=7.4.4->voila) (6.4)\n",
      "Requirement already satisfied: platformdirs>=2.5 in c:\\users\\kirk\\anaconda3\\envs\\fastai\\lib\\site-packages (from jupyter-core>=4.11.0->voila) (4.2.2)\n",
      "Requirement already satisfied: pywin32>=300 in c:\\users\\kirk\\anaconda3\\envs\\fastai\\lib\\site-packages (from jupyter-core>=4.11.0->voila) (306)\n",
      "Requirement already satisfied: anyio>=3.1.0 in c:\\users\\kirk\\anaconda3\\envs\\fastai\\lib\\site-packages (from jupyter-server<3,>=2.0.0->voila) (4.3.0)\n",
      "Requirement already satisfied: argon2-cffi>=21.1 in c:\\users\\kirk\\anaconda3\\envs\\fastai\\lib\\site-packages (from jupyter-server<3,>=2.0.0->voila) (23.1.0)\n",
      "Requirement already satisfied: jinja2>=3.0.3 in c:\\users\\kirk\\anaconda3\\envs\\fastai\\lib\\site-packages (from jupyter-server<3,>=2.0.0->voila) (3.1.3)\n",
      "Requirement already satisfied: jupyter-events>=0.9.0 in c:\\users\\kirk\\anaconda3\\envs\\fastai\\lib\\site-packages (from jupyter-server<3,>=2.0.0->voila) (0.10.0)\n",
      "Requirement already satisfied: jupyter-server-terminals>=0.4.4 in c:\\users\\kirk\\anaconda3\\envs\\fastai\\lib\\site-packages (from jupyter-server<3,>=2.0.0->voila) (0.5.3)\n",
      "Requirement already satisfied: nbformat>=5.3.0 in c:\\users\\kirk\\anaconda3\\envs\\fastai\\lib\\site-packages (from jupyter-server<3,>=2.0.0->voila) (5.10.4)\n",
      "Requirement already satisfied: overrides>=5.0 in c:\\users\\kirk\\anaconda3\\envs\\fastai\\lib\\site-packages (from jupyter-server<3,>=2.0.0->voila) (7.7.0)\n",
      "Requirement already satisfied: packaging>=22.0 in c:\\users\\kirk\\anaconda3\\envs\\fastai\\lib\\site-packages (from jupyter-server<3,>=2.0.0->voila) (24.0)\n",
      "Requirement already satisfied: prometheus-client>=0.9 in c:\\users\\kirk\\anaconda3\\envs\\fastai\\lib\\site-packages (from jupyter-server<3,>=2.0.0->voila) (0.20.0)\n",
      "Requirement already satisfied: pywinpty>=2.0.1 in c:\\users\\kirk\\anaconda3\\envs\\fastai\\lib\\site-packages (from jupyter-server<3,>=2.0.0->voila) (2.0.13)\n",
      "Requirement already satisfied: send2trash>=1.8.2 in c:\\users\\kirk\\anaconda3\\envs\\fastai\\lib\\site-packages (from jupyter-server<3,>=2.0.0->voila) (1.8.3)\n",
      "Requirement already satisfied: terminado>=0.8.3 in c:\\users\\kirk\\anaconda3\\envs\\fastai\\lib\\site-packages (from jupyter-server<3,>=2.0.0->voila) (0.18.1)\n",
      "Requirement already satisfied: websocket-client>=1.7 in c:\\users\\kirk\\anaconda3\\envs\\fastai\\lib\\site-packages (from jupyter-server<3,>=2.0.0->voila) (1.8.0)\n",
      "Requirement already satisfied: babel>=2.10 in c:\\users\\kirk\\anaconda3\\envs\\fastai\\lib\\site-packages (from jupyterlab-server<3,>=2.3.0->voila) (2.14.0)\n",
      "Requirement already satisfied: importlib-metadata>=4.8.3 in c:\\users\\kirk\\anaconda3\\envs\\fastai\\lib\\site-packages (from jupyterlab-server<3,>=2.3.0->voila) (7.1.0)\n",
      "Requirement already satisfied: json5>=0.9.0 in c:\\users\\kirk\\anaconda3\\envs\\fastai\\lib\\site-packages (from jupyterlab-server<3,>=2.3.0->voila) (0.9.25)\n",
      "Requirement already satisfied: jsonschema>=4.18.0 in c:\\users\\kirk\\anaconda3\\envs\\fastai\\lib\\site-packages (from jupyterlab-server<3,>=2.3.0->voila) (4.22.0)\n",
      "Requirement already satisfied: requests>=2.31 in c:\\users\\kirk\\anaconda3\\envs\\fastai\\lib\\site-packages (from jupyterlab-server<3,>=2.3.0->voila) (2.31.0)\n",
      "Requirement already satisfied: beautifulsoup4 in c:\\users\\kirk\\anaconda3\\envs\\fastai\\lib\\site-packages (from nbconvert<8,>=6.4.5->voila) (4.12.3)\n",
      "Requirement already satisfied: bleach!=5.0.0 in c:\\users\\kirk\\anaconda3\\envs\\fastai\\lib\\site-packages (from nbconvert<8,>=6.4.5->voila) (6.1.0)\n",
      "Requirement already satisfied: defusedxml in c:\\users\\kirk\\anaconda3\\envs\\fastai\\lib\\site-packages (from nbconvert<8,>=6.4.5->voila) (0.7.1)\n",
      "Requirement already satisfied: jupyterlab-pygments in c:\\users\\kirk\\anaconda3\\envs\\fastai\\lib\\site-packages (from nbconvert<8,>=6.4.5->voila) (0.2.2)\n",
      "Requirement already satisfied: markupsafe>=2.0 in c:\\users\\kirk\\anaconda3\\envs\\fastai\\lib\\site-packages (from nbconvert<8,>=6.4.5->voila) (2.1.5)\n",
      "Requirement already satisfied: mistune<4,>=2.0.3 in c:\\users\\kirk\\anaconda3\\envs\\fastai\\lib\\site-packages (from nbconvert<8,>=6.4.5->voila) (3.0.2)\n",
      "Requirement already satisfied: pandocfilters>=1.4.1 in c:\\users\\kirk\\anaconda3\\envs\\fastai\\lib\\site-packages (from nbconvert<8,>=6.4.5->voila) (1.5.0)\n",
      "Requirement already satisfied: pygments>=2.4.1 in c:\\users\\kirk\\anaconda3\\envs\\fastai\\lib\\site-packages (from nbconvert<8,>=6.4.5->voila) (2.18.0)\n",
      "Requirement already satisfied: tinycss2 in c:\\users\\kirk\\anaconda3\\envs\\fastai\\lib\\site-packages (from nbconvert<8,>=6.4.5->voila) (1.3.0)\n",
      "Requirement already satisfied: idna>=2.8 in c:\\users\\kirk\\anaconda3\\envs\\fastai\\lib\\site-packages (from anyio>=3.1.0->jupyter-server<3,>=2.0.0->voila) (3.7)\n",
      "Requirement already satisfied: sniffio>=1.1 in c:\\users\\kirk\\anaconda3\\envs\\fastai\\lib\\site-packages (from anyio>=3.1.0->jupyter-server<3,>=2.0.0->voila) (1.3.1)\n",
      "Requirement already satisfied: exceptiongroup>=1.0.2 in c:\\users\\kirk\\anaconda3\\envs\\fastai\\lib\\site-packages (from anyio>=3.1.0->jupyter-server<3,>=2.0.0->voila) (1.2.0)\n",
      "Requirement already satisfied: typing-extensions>=4.1 in c:\\users\\kirk\\anaconda3\\envs\\fastai\\lib\\site-packages (from anyio>=3.1.0->jupyter-server<3,>=2.0.0->voila) (4.11.0)\n",
      "Requirement already satisfied: argon2-cffi-bindings in c:\\users\\kirk\\anaconda3\\envs\\fastai\\lib\\site-packages (from argon2-cffi>=21.1->jupyter-server<3,>=2.0.0->voila) (21.2.0)\n",
      "Requirement already satisfied: six>=1.9.0 in c:\\users\\kirk\\anaconda3\\envs\\fastai\\lib\\site-packages (from bleach!=5.0.0->nbconvert<8,>=6.4.5->voila) (1.16.0)\n",
      "Requirement already satisfied: webencodings in c:\\users\\kirk\\anaconda3\\envs\\fastai\\lib\\site-packages (from bleach!=5.0.0->nbconvert<8,>=6.4.5->voila) (0.5.1)\n",
      "Requirement already satisfied: zipp>=0.5 in c:\\users\\kirk\\anaconda3\\envs\\fastai\\lib\\site-packages (from importlib-metadata>=4.8.3->jupyterlab-server<3,>=2.3.0->voila) (3.17.0)\n",
      "Requirement already satisfied: attrs>=22.2.0 in c:\\users\\kirk\\anaconda3\\envs\\fastai\\lib\\site-packages (from jsonschema>=4.18.0->jupyterlab-server<3,>=2.3.0->voila) (23.2.0)\n",
      "Requirement already satisfied: jsonschema-specifications>=2023.03.6 in c:\\users\\kirk\\anaconda3\\envs\\fastai\\lib\\site-packages (from jsonschema>=4.18.0->jupyterlab-server<3,>=2.3.0->voila) (2023.12.1)\n",
      "Requirement already satisfied: referencing>=0.28.4 in c:\\users\\kirk\\anaconda3\\envs\\fastai\\lib\\site-packages (from jsonschema>=4.18.0->jupyterlab-server<3,>=2.3.0->voila) (0.35.1)\n",
      "Requirement already satisfied: rpds-py>=0.7.1 in c:\\users\\kirk\\anaconda3\\envs\\fastai\\lib\\site-packages (from jsonschema>=4.18.0->jupyterlab-server<3,>=2.3.0->voila) (0.18.1)\n",
      "Requirement already satisfied: python-json-logger>=2.0.4 in c:\\users\\kirk\\anaconda3\\envs\\fastai\\lib\\site-packages (from jupyter-events>=0.9.0->jupyter-server<3,>=2.0.0->voila) (2.0.7)\n",
      "Requirement already satisfied: pyyaml>=5.3 in c:\\users\\kirk\\anaconda3\\envs\\fastai\\lib\\site-packages (from jupyter-events>=0.9.0->jupyter-server<3,>=2.0.0->voila) (6.0.1)\n",
      "Requirement already satisfied: rfc3339-validator in c:\\users\\kirk\\anaconda3\\envs\\fastai\\lib\\site-packages (from jupyter-events>=0.9.0->jupyter-server<3,>=2.0.0->voila) (0.1.4)\n",
      "Requirement already satisfied: rfc3986-validator>=0.1.1 in c:\\users\\kirk\\anaconda3\\envs\\fastai\\lib\\site-packages (from jupyter-events>=0.9.0->jupyter-server<3,>=2.0.0->voila) (0.1.1)\n",
      "Requirement already satisfied: fastjsonschema>=2.15 in c:\\users\\kirk\\anaconda3\\envs\\fastai\\lib\\site-packages (from nbformat>=5.3.0->jupyter-server<3,>=2.0.0->voila) (2.19.1)\n",
      "Requirement already satisfied: charset-normalizer<4,>=2 in c:\\users\\kirk\\anaconda3\\envs\\fastai\\lib\\site-packages (from requests>=2.31->jupyterlab-server<3,>=2.3.0->voila) (3.3.2)\n",
      "Requirement already satisfied: urllib3<3,>=1.21.1 in c:\\users\\kirk\\anaconda3\\envs\\fastai\\lib\\site-packages (from requests>=2.31->jupyterlab-server<3,>=2.3.0->voila) (2.2.1)\n",
      "Requirement already satisfied: certifi>=2017.4.17 in c:\\users\\kirk\\anaconda3\\envs\\fastai\\lib\\site-packages (from requests>=2.31->jupyterlab-server<3,>=2.3.0->voila) (2024.2.2)\n",
      "Requirement already satisfied: soupsieve>1.2 in c:\\users\\kirk\\anaconda3\\envs\\fastai\\lib\\site-packages (from beautifulsoup4->nbconvert<8,>=6.4.5->voila) (2.5)\n",
      "Requirement already satisfied: fqdn in c:\\users\\kirk\\anaconda3\\envs\\fastai\\lib\\site-packages (from jsonschema[format-nongpl]>=4.18.0->jupyter-events>=0.9.0->jupyter-server<3,>=2.0.0->voila) (1.5.1)\n",
      "Requirement already satisfied: isoduration in c:\\users\\kirk\\anaconda3\\envs\\fastai\\lib\\site-packages (from jsonschema[format-nongpl]>=4.18.0->jupyter-events>=0.9.0->jupyter-server<3,>=2.0.0->voila) (20.11.0)\n",
      "Requirement already satisfied: jsonpointer>1.13 in c:\\users\\kirk\\anaconda3\\envs\\fastai\\lib\\site-packages (from jsonschema[format-nongpl]>=4.18.0->jupyter-events>=0.9.0->jupyter-server<3,>=2.0.0->voila) (2.4)\n",
      "Requirement already satisfied: uri-template in c:\\users\\kirk\\anaconda3\\envs\\fastai\\lib\\site-packages (from jsonschema[format-nongpl]>=4.18.0->jupyter-events>=0.9.0->jupyter-server<3,>=2.0.0->voila) (1.3.0)\n",
      "Requirement already satisfied: webcolors>=1.11 in c:\\users\\kirk\\anaconda3\\envs\\fastai\\lib\\site-packages (from jsonschema[format-nongpl]>=4.18.0->jupyter-events>=0.9.0->jupyter-server<3,>=2.0.0->voila) (1.13)\n",
      "Requirement already satisfied: cffi>=1.0.1 in c:\\users\\kirk\\anaconda3\\envs\\fastai\\lib\\site-packages (from argon2-cffi-bindings->argon2-cffi>=21.1->jupyter-server<3,>=2.0.0->voila) (1.16.0)\n",
      "Requirement already satisfied: pycparser in c:\\users\\kirk\\anaconda3\\envs\\fastai\\lib\\site-packages (from cffi>=1.0.1->argon2-cffi-bindings->argon2-cffi>=21.1->jupyter-server<3,>=2.0.0->voila) (2.22)\n",
      "Requirement already satisfied: arrow>=0.15.0 in c:\\users\\kirk\\anaconda3\\envs\\fastai\\lib\\site-packages (from isoduration->jsonschema[format-nongpl]>=4.18.0->jupyter-events>=0.9.0->jupyter-server<3,>=2.0.0->voila) (1.3.0)\n",
      "Requirement already satisfied: types-python-dateutil>=2.8.10 in c:\\users\\kirk\\anaconda3\\envs\\fastai\\lib\\site-packages (from arrow>=0.15.0->isoduration->jsonschema[format-nongpl]>=4.18.0->jupyter-events>=0.9.0->jupyter-server<3,>=2.0.0->voila) (2.9.0.20240316)\n"
     ]
    },
    {
     "name": "stderr",
     "output_type": "stream",
     "text": [
      "Enabling: voila\n",
      "- Writing config: C:\\Users\\kirk\\anaconda3\\envs\\fastai\\etc\\jupyter\n",
      "    - Validating...\n",
      "      voila 0.5.6 ok\n"
     ]
    }
   ],
   "source": [
    "!pip install voila\n",
    "!jupyter serverextension enable --sys-prefix voila"
   ]
  },
  {
   "cell_type": "code",
   "execution_count": 27,
   "id": "5393e8c4-d46d-42f2-9131-af06b58eb85c",
   "metadata": {
    "tags": []
   },
   "outputs": [
    {
     "data": {
      "text/plain": [
       "(#1) [Path('export.pkl')]"
      ]
     },
     "execution_count": 27,
     "metadata": {},
     "output_type": "execute_result"
    }
   ],
   "source": [
    "path = Path()\n",
    "path.ls(file_exts='.pkl')"
   ]
  },
  {
   "cell_type": "code",
   "execution_count": 28,
   "id": "847f7cfc-792a-40d6-8bfc-07ad04e8d855",
   "metadata": {
    "tags": []
   },
   "outputs": [],
   "source": [
    "learn_inf = load_learner(path/'export.pkl')"
   ]
  },
  {
   "cell_type": "code",
   "execution_count": 29,
   "id": "d0a29ab0-d573-4880-b341-6af2849a22e0",
   "metadata": {
    "tags": []
   },
   "outputs": [
    {
     "data": {
      "text/html": [
       "\n",
       "<style>\n",
       "    /* Turns off some styling */\n",
       "    progress {\n",
       "        /* gets rid of default border in Firefox and Opera. */\n",
       "        border: none;\n",
       "        /* Needs to be in here for Safari polyfill so background images work as expected. */\n",
       "        background-size: auto;\n",
       "    }\n",
       "    progress:not([value]), progress:not([value])::-webkit-progress-bar {\n",
       "        background: repeating-linear-gradient(45deg, #7e7e7e, #7e7e7e 10px, #5c5c5c 10px, #5c5c5c 20px);\n",
       "    }\n",
       "    .progress-bar-interrupted, .progress-bar-interrupted::-webkit-progress-bar {\n",
       "        background: #F44336;\n",
       "    }\n",
       "</style>\n"
      ],
      "text/plain": [
       "<IPython.core.display.HTML object>"
      ]
     },
     "metadata": {},
     "output_type": "display_data"
    },
    {
     "data": {
      "text/html": [],
      "text/plain": [
       "<IPython.core.display.HTML object>"
      ]
     },
     "metadata": {},
     "output_type": "display_data"
    },
    {
     "data": {
      "text/plain": [
       "('grizzly', tensor(1), tensor([7.2937e-08, 1.0000e+00, 2.2411e-09]))"
      ]
     },
     "execution_count": 29,
     "metadata": {},
     "output_type": "execute_result"
    }
   ],
   "source": [
    "learn_inf.predict('images/grizzly.jpg')"
   ]
  },
  {
   "cell_type": "code",
   "execution_count": 30,
   "id": "dddfdcb0-077e-47b3-ae1a-a6ce906f123b",
   "metadata": {
    "tags": []
   },
   "outputs": [
    {
     "data": {
      "text/plain": [
       "['black', 'grizzly', 'teddy']"
      ]
     },
     "execution_count": 30,
     "metadata": {},
     "output_type": "execute_result"
    }
   ],
   "source": [
    "learn_inf.dls.vocab"
   ]
  },
  {
   "cell_type": "code",
   "execution_count": 31,
   "id": "0c1a099f-6192-401b-b0b6-d46da636f907",
   "metadata": {
    "tags": []
   },
   "outputs": [
    {
     "data": {
      "application/vnd.jupyter.widget-view+json": {
       "model_id": "95cfec2a47f64a50a14a015068be288b",
       "version_major": 2,
       "version_minor": 0
      },
      "text/plain": [
       "FileUpload(value=(), description='Upload')"
      ]
     },
     "execution_count": 31,
     "metadata": {},
     "output_type": "execute_result"
    }
   ],
   "source": [
    "#hide_output\n",
    "btn_upload = widgets.FileUpload()\n",
    "btn_upload"
   ]
  },
  {
   "cell_type": "code",
   "execution_count": 32,
   "id": "92c6876a-c0eb-4968-b8a1-37ab65a3513e",
   "metadata": {
    "tags": []
   },
   "outputs": [],
   "source": [
    "#hide\n",
    "# For the book, we can't actually click an upload button, so we fake it\n",
    "btn_upload = SimpleNamespace(data = ['images/grizzly.jpg'])"
   ]
  },
  {
   "cell_type": "code",
   "execution_count": 33,
   "id": "13f12226-2feb-4a09-9c31-52b23d169a99",
   "metadata": {
    "tags": []
   },
   "outputs": [],
   "source": [
    "#hide\n",
    "# For the book, we can't actually click an upload button, so we fake it\n",
    "btn_upload = SimpleNamespace(data = ['images/grizzly.jpg'])"
   ]
  },
  {
   "cell_type": "code",
   "execution_count": 34,
   "id": "e4fca23f-4fcb-4739-975e-7163e7e4e096",
   "metadata": {
    "tags": []
   },
   "outputs": [],
   "source": [
    "img = PILImage.create(btn_upload.data[-1])"
   ]
  },
  {
   "cell_type": "code",
   "execution_count": 35,
   "id": "46bc7bc5-f5a1-4c5c-91b3-95444e00e4db",
   "metadata": {
    "tags": []
   },
   "outputs": [
    {
     "data": {
      "application/vnd.jupyter.widget-view+json": {
       "model_id": "ad11fa5279534bb987f2612252e9d81f",
       "version_major": 2,
       "version_minor": 0
      },
      "text/plain": [
       "Output()"
      ]
     },
     "execution_count": 35,
     "metadata": {},
     "output_type": "execute_result"
    }
   ],
   "source": [
    "#hide_output\n",
    "out_pl = widgets.Output()\n",
    "out_pl.clear_output()\n",
    "with out_pl: display(img.to_thumb(128,128))\n",
    "out_pl"
   ]
  },
  {
   "cell_type": "code",
   "execution_count": 36,
   "id": "40a172ec-fd26-43f6-9488-09d5bc38994d",
   "metadata": {
    "tags": []
   },
   "outputs": [
    {
     "data": {
      "text/html": [
       "\n",
       "<style>\n",
       "    /* Turns off some styling */\n",
       "    progress {\n",
       "        /* gets rid of default border in Firefox and Opera. */\n",
       "        border: none;\n",
       "        /* Needs to be in here for Safari polyfill so background images work as expected. */\n",
       "        background-size: auto;\n",
       "    }\n",
       "    progress:not([value]), progress:not([value])::-webkit-progress-bar {\n",
       "        background: repeating-linear-gradient(45deg, #7e7e7e, #7e7e7e 10px, #5c5c5c 10px, #5c5c5c 20px);\n",
       "    }\n",
       "    .progress-bar-interrupted, .progress-bar-interrupted::-webkit-progress-bar {\n",
       "        background: #F44336;\n",
       "    }\n",
       "</style>\n"
      ],
      "text/plain": [
       "<IPython.core.display.HTML object>"
      ]
     },
     "metadata": {},
     "output_type": "display_data"
    },
    {
     "data": {
      "text/html": [],
      "text/plain": [
       "<IPython.core.display.HTML object>"
      ]
     },
     "metadata": {},
     "output_type": "display_data"
    }
   ],
   "source": [
    "pred,pred_idx,probs = learn_inf.predict(img)"
   ]
  },
  {
   "cell_type": "code",
   "execution_count": 37,
   "id": "5c741784-d5f2-45ac-b4bf-25ec0551914d",
   "metadata": {
    "tags": []
   },
   "outputs": [
    {
     "data": {
      "application/vnd.jupyter.widget-view+json": {
       "model_id": "16e1675a28ac400e9d731196c08428a6",
       "version_major": 2,
       "version_minor": 0
      },
      "text/plain": [
       "Label(value='Prediction: grizzly; Probability: 1.0000')"
      ]
     },
     "execution_count": 37,
     "metadata": {},
     "output_type": "execute_result"
    }
   ],
   "source": [
    "#hide_output\n",
    "lbl_pred = widgets.Label()\n",
    "lbl_pred.value = f'Prediction: {pred}; Probability: {probs[pred_idx]:.04f}'\n",
    "lbl_pred"
   ]
  },
  {
   "cell_type": "code",
   "execution_count": 38,
   "id": "f3ccf720-d9bc-4878-b718-805a43ff262d",
   "metadata": {
    "tags": []
   },
   "outputs": [
    {
     "data": {
      "application/vnd.jupyter.widget-view+json": {
       "model_id": "ab59070a3b6f4929a14100c695bd8cca",
       "version_major": 2,
       "version_minor": 0
      },
      "text/plain": [
       "Button(description='Classify', style=ButtonStyle())"
      ]
     },
     "execution_count": 38,
     "metadata": {},
     "output_type": "execute_result"
    }
   ],
   "source": [
    "#hide_output\n",
    "btn_run = widgets.Button(description='Classify')\n",
    "btn_run"
   ]
  },
  {
   "cell_type": "code",
   "execution_count": 39,
   "id": "f3e80be9-1607-4672-836c-70458f1ca017",
   "metadata": {
    "tags": []
   },
   "outputs": [],
   "source": [
    "def on_click_classify(change):\n",
    "    img = PILImage.create(btn_upload.data[-1])\n",
    "    out_pl.clear_output()\n",
    "    with out_pl: display(img.to_thumb(128,128))\n",
    "    pred,pred_idx,probs = learn_inf.predict(img)\n",
    "    lbl_pred.value = f'Prediction: {pred}; Probability: {probs[pred_idx]:.04f}'\n",
    "\n",
    "btn_run.on_click(on_click_classify)"
   ]
  },
  {
   "cell_type": "code",
   "execution_count": 40,
   "id": "c5ccaaf7-060f-4f2d-b03e-97a61f1fb113",
   "metadata": {
    "tags": []
   },
   "outputs": [],
   "source": [
    "#hide\n",
    "#Putting back btn_upload to a widget for next cell\n",
    "btn_upload = widgets.FileUpload()"
   ]
  },
  {
   "cell_type": "code",
   "execution_count": 41,
   "id": "15f26356-f410-4b86-90f8-48bf0938a5da",
   "metadata": {
    "tags": []
   },
   "outputs": [
    {
     "data": {
      "application/vnd.jupyter.widget-view+json": {
       "model_id": "00b06189361341f1bc6ea20a6bc87eec",
       "version_major": 2,
       "version_minor": 0
      },
      "text/plain": [
       "VBox(children=(Label(value='Select your bear!'), FileUpload(value=(), description='Upload'), Button(descriptio…"
      ]
     },
     "execution_count": 41,
     "metadata": {},
     "output_type": "execute_result"
    }
   ],
   "source": [
    "#hide_output\n",
    "VBox([widgets.Label('Select your bear!'), \n",
    "      btn_upload, btn_run, out_pl, lbl_pred])"
   ]
  },
  {
   "cell_type": "code",
   "execution_count": 42,
   "id": "8ab53473-87fa-4409-8db9-112046c208a9",
   "metadata": {
    "tags": []
   },
   "outputs": [
    {
     "name": "stdout",
     "output_type": "stream",
     "text": [
      "Requirement already satisfied: voila in c:\\users\\kirk\\anaconda3\\envs\\fastai\\lib\\site-packages (0.5.6)\n",
      "Requirement already satisfied: jupyter-client<9,>=7.4.4 in c:\\users\\kirk\\anaconda3\\envs\\fastai\\lib\\site-packages (from voila) (7.4.9)\n",
      "Requirement already satisfied: jupyter-core>=4.11.0 in c:\\users\\kirk\\anaconda3\\envs\\fastai\\lib\\site-packages (from voila) (5.7.2)\n",
      "Requirement already satisfied: jupyter-server<3,>=2.0.0 in c:\\users\\kirk\\anaconda3\\envs\\fastai\\lib\\site-packages (from voila) (2.14.0)\n",
      "Requirement already satisfied: jupyterlab-server<3,>=2.3.0 in c:\\users\\kirk\\anaconda3\\envs\\fastai\\lib\\site-packages (from voila) (2.27.1)\n",
      "Requirement already satisfied: nbclient<0.8,>=0.4.0 in c:\\users\\kirk\\anaconda3\\envs\\fastai\\lib\\site-packages (from voila) (0.7.4)\n",
      "Requirement already satisfied: nbconvert<8,>=6.4.5 in c:\\users\\kirk\\anaconda3\\envs\\fastai\\lib\\site-packages (from voila) (7.16.4)\n",
      "Requirement already satisfied: traitlets<6,>=5.0.3 in c:\\users\\kirk\\anaconda3\\envs\\fastai\\lib\\site-packages (from voila) (5.14.3)\n",
      "Requirement already satisfied: websockets>=9.0 in c:\\users\\kirk\\anaconda3\\envs\\fastai\\lib\\site-packages (from voila) (12.0)\n",
      "Requirement already satisfied: entrypoints in c:\\users\\kirk\\anaconda3\\envs\\fastai\\lib\\site-packages (from jupyter-client<9,>=7.4.4->voila) (0.4)\n",
      "Requirement already satisfied: nest-asyncio>=1.5.4 in c:\\users\\kirk\\anaconda3\\envs\\fastai\\lib\\site-packages (from jupyter-client<9,>=7.4.4->voila) (1.6.0)\n",
      "Requirement already satisfied: python-dateutil>=2.8.2 in c:\\users\\kirk\\anaconda3\\envs\\fastai\\lib\\site-packages (from jupyter-client<9,>=7.4.4->voila) (2.9.0)\n",
      "Requirement already satisfied: pyzmq>=23.0 in c:\\users\\kirk\\anaconda3\\envs\\fastai\\lib\\site-packages (from jupyter-client<9,>=7.4.4->voila) (24.0.1)\n",
      "Requirement already satisfied: tornado>=6.2 in c:\\users\\kirk\\anaconda3\\envs\\fastai\\lib\\site-packages (from jupyter-client<9,>=7.4.4->voila) (6.4)\n",
      "Requirement already satisfied: platformdirs>=2.5 in c:\\users\\kirk\\anaconda3\\envs\\fastai\\lib\\site-packages (from jupyter-core>=4.11.0->voila) (4.2.2)\n",
      "Requirement already satisfied: pywin32>=300 in c:\\users\\kirk\\anaconda3\\envs\\fastai\\lib\\site-packages (from jupyter-core>=4.11.0->voila) (306)\n",
      "Requirement already satisfied: anyio>=3.1.0 in c:\\users\\kirk\\anaconda3\\envs\\fastai\\lib\\site-packages (from jupyter-server<3,>=2.0.0->voila) (4.3.0)\n",
      "Requirement already satisfied: argon2-cffi>=21.1 in c:\\users\\kirk\\anaconda3\\envs\\fastai\\lib\\site-packages (from jupyter-server<3,>=2.0.0->voila) (23.1.0)\n",
      "Requirement already satisfied: jinja2>=3.0.3 in c:\\users\\kirk\\anaconda3\\envs\\fastai\\lib\\site-packages (from jupyter-server<3,>=2.0.0->voila) (3.1.3)\n",
      "Requirement already satisfied: jupyter-events>=0.9.0 in c:\\users\\kirk\\anaconda3\\envs\\fastai\\lib\\site-packages (from jupyter-server<3,>=2.0.0->voila) (0.10.0)\n",
      "Requirement already satisfied: jupyter-server-terminals>=0.4.4 in c:\\users\\kirk\\anaconda3\\envs\\fastai\\lib\\site-packages (from jupyter-server<3,>=2.0.0->voila) (0.5.3)\n",
      "Requirement already satisfied: nbformat>=5.3.0 in c:\\users\\kirk\\anaconda3\\envs\\fastai\\lib\\site-packages (from jupyter-server<3,>=2.0.0->voila) (5.10.4)\n",
      "Requirement already satisfied: overrides>=5.0 in c:\\users\\kirk\\anaconda3\\envs\\fastai\\lib\\site-packages (from jupyter-server<3,>=2.0.0->voila) (7.7.0)\n",
      "Requirement already satisfied: packaging>=22.0 in c:\\users\\kirk\\anaconda3\\envs\\fastai\\lib\\site-packages (from jupyter-server<3,>=2.0.0->voila) (24.0)\n",
      "Requirement already satisfied: prometheus-client>=0.9 in c:\\users\\kirk\\anaconda3\\envs\\fastai\\lib\\site-packages (from jupyter-server<3,>=2.0.0->voila) (0.20.0)\n",
      "Requirement already satisfied: pywinpty>=2.0.1 in c:\\users\\kirk\\anaconda3\\envs\\fastai\\lib\\site-packages (from jupyter-server<3,>=2.0.0->voila) (2.0.13)\n",
      "Requirement already satisfied: send2trash>=1.8.2 in c:\\users\\kirk\\anaconda3\\envs\\fastai\\lib\\site-packages (from jupyter-server<3,>=2.0.0->voila) (1.8.3)\n",
      "Requirement already satisfied: terminado>=0.8.3 in c:\\users\\kirk\\anaconda3\\envs\\fastai\\lib\\site-packages (from jupyter-server<3,>=2.0.0->voila) (0.18.1)\n",
      "Requirement already satisfied: websocket-client>=1.7 in c:\\users\\kirk\\anaconda3\\envs\\fastai\\lib\\site-packages (from jupyter-server<3,>=2.0.0->voila) (1.8.0)\n",
      "Requirement already satisfied: babel>=2.10 in c:\\users\\kirk\\anaconda3\\envs\\fastai\\lib\\site-packages (from jupyterlab-server<3,>=2.3.0->voila) (2.14.0)\n",
      "Requirement already satisfied: importlib-metadata>=4.8.3 in c:\\users\\kirk\\anaconda3\\envs\\fastai\\lib\\site-packages (from jupyterlab-server<3,>=2.3.0->voila) (7.1.0)\n",
      "Requirement already satisfied: json5>=0.9.0 in c:\\users\\kirk\\anaconda3\\envs\\fastai\\lib\\site-packages (from jupyterlab-server<3,>=2.3.0->voila) (0.9.25)\n",
      "Requirement already satisfied: jsonschema>=4.18.0 in c:\\users\\kirk\\anaconda3\\envs\\fastai\\lib\\site-packages (from jupyterlab-server<3,>=2.3.0->voila) (4.22.0)\n",
      "Requirement already satisfied: requests>=2.31 in c:\\users\\kirk\\anaconda3\\envs\\fastai\\lib\\site-packages (from jupyterlab-server<3,>=2.3.0->voila) (2.31.0)\n",
      "Requirement already satisfied: beautifulsoup4 in c:\\users\\kirk\\anaconda3\\envs\\fastai\\lib\\site-packages (from nbconvert<8,>=6.4.5->voila) (4.12.3)\n",
      "Requirement already satisfied: bleach!=5.0.0 in c:\\users\\kirk\\anaconda3\\envs\\fastai\\lib\\site-packages (from nbconvert<8,>=6.4.5->voila) (6.1.0)\n",
      "Requirement already satisfied: defusedxml in c:\\users\\kirk\\anaconda3\\envs\\fastai\\lib\\site-packages (from nbconvert<8,>=6.4.5->voila) (0.7.1)\n",
      "Requirement already satisfied: jupyterlab-pygments in c:\\users\\kirk\\anaconda3\\envs\\fastai\\lib\\site-packages (from nbconvert<8,>=6.4.5->voila) (0.2.2)\n",
      "Requirement already satisfied: markupsafe>=2.0 in c:\\users\\kirk\\anaconda3\\envs\\fastai\\lib\\site-packages (from nbconvert<8,>=6.4.5->voila) (2.1.5)\n",
      "Requirement already satisfied: mistune<4,>=2.0.3 in c:\\users\\kirk\\anaconda3\\envs\\fastai\\lib\\site-packages (from nbconvert<8,>=6.4.5->voila) (3.0.2)\n",
      "Requirement already satisfied: pandocfilters>=1.4.1 in c:\\users\\kirk\\anaconda3\\envs\\fastai\\lib\\site-packages (from nbconvert<8,>=6.4.5->voila) (1.5.0)\n",
      "Requirement already satisfied: pygments>=2.4.1 in c:\\users\\kirk\\anaconda3\\envs\\fastai\\lib\\site-packages (from nbconvert<8,>=6.4.5->voila) (2.18.0)\n",
      "Requirement already satisfied: tinycss2 in c:\\users\\kirk\\anaconda3\\envs\\fastai\\lib\\site-packages (from nbconvert<8,>=6.4.5->voila) (1.3.0)\n",
      "Requirement already satisfied: idna>=2.8 in c:\\users\\kirk\\anaconda3\\envs\\fastai\\lib\\site-packages (from anyio>=3.1.0->jupyter-server<3,>=2.0.0->voila) (3.7)\n",
      "Requirement already satisfied: sniffio>=1.1 in c:\\users\\kirk\\anaconda3\\envs\\fastai\\lib\\site-packages (from anyio>=3.1.0->jupyter-server<3,>=2.0.0->voila) (1.3.1)\n",
      "Requirement already satisfied: exceptiongroup>=1.0.2 in c:\\users\\kirk\\anaconda3\\envs\\fastai\\lib\\site-packages (from anyio>=3.1.0->jupyter-server<3,>=2.0.0->voila) (1.2.0)\n",
      "Requirement already satisfied: typing-extensions>=4.1 in c:\\users\\kirk\\anaconda3\\envs\\fastai\\lib\\site-packages (from anyio>=3.1.0->jupyter-server<3,>=2.0.0->voila) (4.11.0)\n",
      "Requirement already satisfied: argon2-cffi-bindings in c:\\users\\kirk\\anaconda3\\envs\\fastai\\lib\\site-packages (from argon2-cffi>=21.1->jupyter-server<3,>=2.0.0->voila) (21.2.0)\n",
      "Requirement already satisfied: six>=1.9.0 in c:\\users\\kirk\\anaconda3\\envs\\fastai\\lib\\site-packages (from bleach!=5.0.0->nbconvert<8,>=6.4.5->voila) (1.16.0)\n",
      "Requirement already satisfied: webencodings in c:\\users\\kirk\\anaconda3\\envs\\fastai\\lib\\site-packages (from bleach!=5.0.0->nbconvert<8,>=6.4.5->voila) (0.5.1)\n",
      "Requirement already satisfied: zipp>=0.5 in c:\\users\\kirk\\anaconda3\\envs\\fastai\\lib\\site-packages (from importlib-metadata>=4.8.3->jupyterlab-server<3,>=2.3.0->voila) (3.17.0)\n",
      "Requirement already satisfied: attrs>=22.2.0 in c:\\users\\kirk\\anaconda3\\envs\\fastai\\lib\\site-packages (from jsonschema>=4.18.0->jupyterlab-server<3,>=2.3.0->voila) (23.2.0)\n",
      "Requirement already satisfied: jsonschema-specifications>=2023.03.6 in c:\\users\\kirk\\anaconda3\\envs\\fastai\\lib\\site-packages (from jsonschema>=4.18.0->jupyterlab-server<3,>=2.3.0->voila) (2023.12.1)\n",
      "Requirement already satisfied: referencing>=0.28.4 in c:\\users\\kirk\\anaconda3\\envs\\fastai\\lib\\site-packages (from jsonschema>=4.18.0->jupyterlab-server<3,>=2.3.0->voila) (0.35.1)\n",
      "Requirement already satisfied: rpds-py>=0.7.1 in c:\\users\\kirk\\anaconda3\\envs\\fastai\\lib\\site-packages (from jsonschema>=4.18.0->jupyterlab-server<3,>=2.3.0->voila) (0.18.1)\n",
      "Requirement already satisfied: python-json-logger>=2.0.4 in c:\\users\\kirk\\anaconda3\\envs\\fastai\\lib\\site-packages (from jupyter-events>=0.9.0->jupyter-server<3,>=2.0.0->voila) (2.0.7)\n",
      "Requirement already satisfied: pyyaml>=5.3 in c:\\users\\kirk\\anaconda3\\envs\\fastai\\lib\\site-packages (from jupyter-events>=0.9.0->jupyter-server<3,>=2.0.0->voila) (6.0.1)\n",
      "Requirement already satisfied: rfc3339-validator in c:\\users\\kirk\\anaconda3\\envs\\fastai\\lib\\site-packages (from jupyter-events>=0.9.0->jupyter-server<3,>=2.0.0->voila) (0.1.4)\n",
      "Requirement already satisfied: rfc3986-validator>=0.1.1 in c:\\users\\kirk\\anaconda3\\envs\\fastai\\lib\\site-packages (from jupyter-events>=0.9.0->jupyter-server<3,>=2.0.0->voila) (0.1.1)\n",
      "Requirement already satisfied: fastjsonschema>=2.15 in c:\\users\\kirk\\anaconda3\\envs\\fastai\\lib\\site-packages (from nbformat>=5.3.0->jupyter-server<3,>=2.0.0->voila) (2.19.1)\n",
      "Requirement already satisfied: charset-normalizer<4,>=2 in c:\\users\\kirk\\anaconda3\\envs\\fastai\\lib\\site-packages (from requests>=2.31->jupyterlab-server<3,>=2.3.0->voila) (3.3.2)\n",
      "Requirement already satisfied: urllib3<3,>=1.21.1 in c:\\users\\kirk\\anaconda3\\envs\\fastai\\lib\\site-packages (from requests>=2.31->jupyterlab-server<3,>=2.3.0->voila) (2.2.1)\n",
      "Requirement already satisfied: certifi>=2017.4.17 in c:\\users\\kirk\\anaconda3\\envs\\fastai\\lib\\site-packages (from requests>=2.31->jupyterlab-server<3,>=2.3.0->voila) (2024.2.2)\n",
      "Requirement already satisfied: soupsieve>1.2 in c:\\users\\kirk\\anaconda3\\envs\\fastai\\lib\\site-packages (from beautifulsoup4->nbconvert<8,>=6.4.5->voila) (2.5)\n",
      "Requirement already satisfied: fqdn in c:\\users\\kirk\\anaconda3\\envs\\fastai\\lib\\site-packages (from jsonschema[format-nongpl]>=4.18.0->jupyter-events>=0.9.0->jupyter-server<3,>=2.0.0->voila) (1.5.1)\n",
      "Requirement already satisfied: isoduration in c:\\users\\kirk\\anaconda3\\envs\\fastai\\lib\\site-packages (from jsonschema[format-nongpl]>=4.18.0->jupyter-events>=0.9.0->jupyter-server<3,>=2.0.0->voila) (20.11.0)\n",
      "Requirement already satisfied: jsonpointer>1.13 in c:\\users\\kirk\\anaconda3\\envs\\fastai\\lib\\site-packages (from jsonschema[format-nongpl]>=4.18.0->jupyter-events>=0.9.0->jupyter-server<3,>=2.0.0->voila) (2.4)\n",
      "Requirement already satisfied: uri-template in c:\\users\\kirk\\anaconda3\\envs\\fastai\\lib\\site-packages (from jsonschema[format-nongpl]>=4.18.0->jupyter-events>=0.9.0->jupyter-server<3,>=2.0.0->voila) (1.3.0)\n",
      "Requirement already satisfied: webcolors>=1.11 in c:\\users\\kirk\\anaconda3\\envs\\fastai\\lib\\site-packages (from jsonschema[format-nongpl]>=4.18.0->jupyter-events>=0.9.0->jupyter-server<3,>=2.0.0->voila) (1.13)\n",
      "Requirement already satisfied: cffi>=1.0.1 in c:\\users\\kirk\\anaconda3\\envs\\fastai\\lib\\site-packages (from argon2-cffi-bindings->argon2-cffi>=21.1->jupyter-server<3,>=2.0.0->voila) (1.16.0)\n",
      "Requirement already satisfied: pycparser in c:\\users\\kirk\\anaconda3\\envs\\fastai\\lib\\site-packages (from cffi>=1.0.1->argon2-cffi-bindings->argon2-cffi>=21.1->jupyter-server<3,>=2.0.0->voila) (2.22)\n",
      "Requirement already satisfied: arrow>=0.15.0 in c:\\users\\kirk\\anaconda3\\envs\\fastai\\lib\\site-packages (from isoduration->jsonschema[format-nongpl]>=4.18.0->jupyter-events>=0.9.0->jupyter-server<3,>=2.0.0->voila) (1.3.0)\n",
      "Requirement already satisfied: types-python-dateutil>=2.8.10 in c:\\users\\kirk\\anaconda3\\envs\\fastai\\lib\\site-packages (from arrow>=0.15.0->isoduration->jsonschema[format-nongpl]>=4.18.0->jupyter-events>=0.9.0->jupyter-server<3,>=2.0.0->voila) (2.9.0.20240316)\n"
     ]
    },
    {
     "name": "stderr",
     "output_type": "stream",
     "text": [
      "Enabling: voila\n",
      "- Writing config: C:\\Users\\kirk\\anaconda3\\envs\\fastai\\etc\\jupyter\n",
      "    - Validating...\n",
      "      voila 0.5.6 ok\n"
     ]
    }
   ],
   "source": [
    "!pip install voila\n",
    "!jupyter serverextension enable --sys-prefix voila"
   ]
  },
  {
   "cell_type": "code",
   "execution_count": null,
   "id": "a804ab3f-d07c-46df-be22-7076b0e08860",
   "metadata": {},
   "outputs": [],
   "source": []
  }
 ],
 "metadata": {
  "kernelspec": {
   "display_name": "Python 3 (ipykernel)",
   "language": "python",
   "name": "python3"
  },
  "language_info": {
   "codemirror_mode": {
    "name": "ipython",
    "version": 3
   },
   "file_extension": ".py",
   "mimetype": "text/x-python",
   "name": "python",
   "nbconvert_exporter": "python",
   "pygments_lexer": "ipython3",
   "version": "3.9.19"
  }
 },
 "nbformat": 4,
 "nbformat_minor": 5
}
